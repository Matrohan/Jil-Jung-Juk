{
 "cells": [
  {
   "cell_type": "code",
   "execution_count": 3,
   "metadata": {},
   "outputs": [],
   "source": [
    "import random"
   ]
  },
  {
   "cell_type": "markdown",
   "metadata": {},
   "source": [
    "# Number to be guessed"
   ]
  },
  {
   "cell_type": "code",
   "execution_count": 59,
   "metadata": {},
   "outputs": [],
   "source": [
    "number = random.randint(100,999)\n",
    "original_number = str(number)\n"
   ]
  },
  {
   "cell_type": "markdown",
   "metadata": {},
   "source": [
    "# Taking input from user"
   ]
  },
  {
   "cell_type": "code",
   "execution_count": 75,
   "metadata": {},
   "outputs": [],
   "source": [
    "guess_number = input('Guess The Three digit number')\n",
    "if len(guess_number)!= 3:\n",
    "    print('Enter three digits da baka boy')"
   ]
  },
  {
   "cell_type": "code",
   "execution_count": 68,
   "metadata": {},
   "outputs": [
    {
     "name": "stdout",
     "output_type": "stream",
     "text": [
      "Duplicate number\n"
     ]
    }
   ],
   "source": [
    "if len(guess_number) != len(set(guess_number)):\n",
    "    print('Duplicate number')"
   ]
  },
  {
   "cell_type": "code",
   "execution_count": 72,
   "metadata": {},
   "outputs": [],
   "source": [
    "if guess_number == original_number:\n",
    "    print('Jil'*len(original_number), '\\nWaahooooo You won!!!!')"
   ]
  },
  {
   "cell_type": "markdown",
   "metadata": {},
   "source": [
    "# Empty list for output"
   ]
  },
  {
   "cell_type": "code",
   "execution_count": 73,
   "metadata": {},
   "outputs": [],
   "source": [
    "output = []"
   ]
  },
  {
   "cell_type": "code",
   "execution_count": 76,
   "metadata": {},
   "outputs": [],
   "source": [
    "for r in range(len(original_number)):\n",
    "    for b in range(len(guess_number)):\n",
    "        if original_number[r] == guess_number[b]:\n",
    "            if r == b:\n",
    "                output.append('Jil')\n",
    "            else:\n",
    "                output.append('Jung')    "
   ]
  },
  {
   "cell_type": "code",
   "execution_count": null,
   "metadata": {},
   "outputs": [],
   "source": [
    "output_string = ''\n",
    "\n",
    "for item in output:\n",
    "    output_string = output_string + ' ' + item\n",
    "\n",
    "print(output_string)    \n",
    "    "
   ]
  },
  {
   "cell_type": "code",
   "execution_count": null,
   "metadata": {},
   "outputs": [],
   "source": [
    "if len(output) == 0:\n",
    "    print('Juk')\n",
    "else:\n",
    "    print(output_string)  \n",
    "    \n",
    "      \n"
   ]
  },
  {
   "cell_type": "markdown",
   "metadata": {},
   "source": [
    "# Merging all the splited code"
   ]
  },
  {
   "cell_type": "code",
   "execution_count": 1,
   "metadata": {},
   "outputs": [
    {
     "name": "stdout",
     "output_type": "stream",
     "text": [
      " Jung\n",
      " Jung Jil\n",
      " Jil  Jil  Jil \n",
      "\n",
      "Waahooooo You won!!!!\n"
     ]
    }
   ],
   "source": [
    "import random\n",
    "number = random.randint(100,999)\n",
    "original_number = str(number)\n",
    "\n",
    "while True:\n",
    "    output = []\n",
    "    guess_number = input('Guess The Three digit number')\n",
    "\n",
    "    if len(guess_number)!= 3:\n",
    "        print('Enter three digits da baka boy')\n",
    "        continue\n",
    "\n",
    "\n",
    "# in set it is checking guess_number value. The set normally removes any duplicate or same value. So when the guess number has two digits same, The set function remove the duplicate and give us single original value. \n",
    "    if len(guess_number) != len(set(guess_number)):\n",
    "        print('Dupicate number putting uh body soda')\n",
    "        continue\n",
    "\n",
    "    if guess_number == original_number:\n",
    "        print(' Jil '*len(original_number)) \n",
    "        print('\\nWaahooooo You won!!!!')\n",
    "        break\n",
    "\n",
    "    for i in range(len(original_number)):\n",
    "        for j in range(len(guess_number)):\n",
    "            if original_number[i] == guess_number[j]:\n",
    "                if i == j:\n",
    "                   output.append('Jil')\n",
    "                else:\n",
    "                   output.append('Jung')\n",
    "\n",
    "    output_string = ''\n",
    "    for item in output:\n",
    "        output_string = output_string + ' ' + item\n",
    "\n",
    "    if len(output_string) == 0:\n",
    "        print('Juk')\n",
    "    else:\n",
    "        print(output_string)\n",
    " \n",
    "\n",
    "\n",
    "\n",
    "    \n"
   ]
  }
 ],
 "metadata": {
  "kernelspec": {
   "display_name": "Python 3",
   "language": "python",
   "name": "python3"
  },
  "language_info": {
   "codemirror_mode": {
    "name": "ipython",
    "version": 3
   },
   "file_extension": ".py",
   "mimetype": "text/x-python",
   "name": "python",
   "nbconvert_exporter": "python",
   "pygments_lexer": "ipython3",
   "version": "3.11.9"
  }
 },
 "nbformat": 4,
 "nbformat_minor": 2
}
